{
 "cells": [
  {
   "cell_type": "markdown",
   "id": "b7327116",
   "metadata": {},
   "source": [
    "### Importing Libraries:"
   ]
  },
  {
   "cell_type": "code",
   "execution_count": 1,
   "id": "c6d24646",
   "metadata": {},
   "outputs": [],
   "source": [
    "import pandas as pd\n",
    "import numpy as np\n",
    "import matplotlib.pyplot as plt\n",
    "import seaborn as sns\n",
    "sns.set()\n",
    "%matplotlib inline"
   ]
  },
  {
   "cell_type": "markdown",
   "id": "1b73efc9",
   "metadata": {},
   "source": [
    "### Importing Train And Test Dataset:"
   ]
  },
  {
   "cell_type": "code",
   "execution_count": 2,
   "id": "d33fc617",
   "metadata": {},
   "outputs": [],
   "source": [
    "df_train = pd.read_excel('E:\\\\Data Science\\\\Data Sets\\\\Flight Price Prediction\\\\Data_Train.xlsx')\n",
    "df_test = pd.read_excel('E:\\\\Data Science\\\\Data Sets\\\\Flight Price Prediction\\\\Test_set.xlsx')"
   ]
  },
  {
   "cell_type": "code",
   "execution_count": 3,
   "id": "a28570c7",
   "metadata": {
    "scrolled": true
   },
   "outputs": [
    {
     "data": {
      "text/plain": [
       "Airline            0\n",
       "Date_of_Journey    0\n",
       "Source             0\n",
       "Destination        0\n",
       "Route              1\n",
       "Dep_Time           0\n",
       "Arrival_Time       0\n",
       "Duration           0\n",
       "Total_Stops        1\n",
       "Additional_Info    0\n",
       "Price              0\n",
       "dtype: int64"
      ]
     },
     "execution_count": 3,
     "metadata": {},
     "output_type": "execute_result"
    }
   ],
   "source": [
    "df_train.isnull().sum()"
   ]
  },
  {
   "cell_type": "code",
   "execution_count": 4,
   "id": "5abac131",
   "metadata": {},
   "outputs": [
    {
     "data": {
      "text/plain": [
       "Airline            0\n",
       "Date_of_Journey    0\n",
       "Source             0\n",
       "Destination        0\n",
       "Route              0\n",
       "Dep_Time           0\n",
       "Arrival_Time       0\n",
       "Duration           0\n",
       "Total_Stops        0\n",
       "Additional_Info    0\n",
       "Price              0\n",
       "dtype: int64"
      ]
     },
     "execution_count": 4,
     "metadata": {},
     "output_type": "execute_result"
    }
   ],
   "source": [
    "df_train = df_train.dropna()\n",
    "df_train.isnull().sum()"
   ]
  },
  {
   "cell_type": "code",
   "execution_count": 5,
   "id": "fa803ca5",
   "metadata": {
    "scrolled": true
   },
   "outputs": [
    {
     "data": {
      "text/plain": [
       "Airline            0\n",
       "Date_of_Journey    0\n",
       "Source             0\n",
       "Destination        0\n",
       "Route              0\n",
       "Dep_Time           0\n",
       "Arrival_Time       0\n",
       "Duration           0\n",
       "Total_Stops        0\n",
       "Additional_Info    0\n",
       "dtype: int64"
      ]
     },
     "execution_count": 5,
     "metadata": {},
     "output_type": "execute_result"
    }
   ],
   "source": [
    "df_test.isnull().sum()"
   ]
  },
  {
   "cell_type": "code",
   "execution_count": 6,
   "id": "1754146f",
   "metadata": {},
   "outputs": [
    {
     "data": {
      "text/plain": [
       "((10682, 11), (2671, 10))"
      ]
     },
     "execution_count": 6,
     "metadata": {},
     "output_type": "execute_result"
    }
   ],
   "source": [
    "df_train.shape , df_test.shape"
   ]
  },
  {
   "cell_type": "markdown",
   "id": "205b0118",
   "metadata": {},
   "source": [
    "### Combining Train and Test Data For Preprocessing:"
   ]
  },
  {
   "cell_type": "code",
   "execution_count": 7,
   "id": "caa8df01",
   "metadata": {},
   "outputs": [
    {
     "data": {
      "text/html": [
       "<div>\n",
       "<style scoped>\n",
       "    .dataframe tbody tr th:only-of-type {\n",
       "        vertical-align: middle;\n",
       "    }\n",
       "\n",
       "    .dataframe tbody tr th {\n",
       "        vertical-align: top;\n",
       "    }\n",
       "\n",
       "    .dataframe thead th {\n",
       "        text-align: right;\n",
       "    }\n",
       "</style>\n",
       "<table border=\"1\" class=\"dataframe\">\n",
       "  <thead>\n",
       "    <tr style=\"text-align: right;\">\n",
       "      <th></th>\n",
       "      <th>Airline</th>\n",
       "      <th>Date_of_Journey</th>\n",
       "      <th>Source</th>\n",
       "      <th>Destination</th>\n",
       "      <th>Route</th>\n",
       "      <th>Dep_Time</th>\n",
       "      <th>Arrival_Time</th>\n",
       "      <th>Duration</th>\n",
       "      <th>Total_Stops</th>\n",
       "      <th>Additional_Info</th>\n",
       "      <th>Price</th>\n",
       "    </tr>\n",
       "  </thead>\n",
       "  <tbody>\n",
       "    <tr>\n",
       "      <th>0</th>\n",
       "      <td>IndiGo</td>\n",
       "      <td>24/03/2019</td>\n",
       "      <td>Banglore</td>\n",
       "      <td>New Delhi</td>\n",
       "      <td>BLR → DEL</td>\n",
       "      <td>22:20</td>\n",
       "      <td>01:10 22 Mar</td>\n",
       "      <td>2h 50m</td>\n",
       "      <td>non-stop</td>\n",
       "      <td>No info</td>\n",
       "      <td>3897.0</td>\n",
       "    </tr>\n",
       "    <tr>\n",
       "      <th>1</th>\n",
       "      <td>Air India</td>\n",
       "      <td>1/05/2019</td>\n",
       "      <td>Kolkata</td>\n",
       "      <td>Banglore</td>\n",
       "      <td>CCU → IXR → BBI → BLR</td>\n",
       "      <td>05:50</td>\n",
       "      <td>13:15</td>\n",
       "      <td>7h 25m</td>\n",
       "      <td>2 stops</td>\n",
       "      <td>No info</td>\n",
       "      <td>7662.0</td>\n",
       "    </tr>\n",
       "  </tbody>\n",
       "</table>\n",
       "</div>"
      ],
      "text/plain": [
       "     Airline Date_of_Journey    Source Destination                  Route  \\\n",
       "0     IndiGo      24/03/2019  Banglore   New Delhi              BLR → DEL   \n",
       "1  Air India       1/05/2019   Kolkata    Banglore  CCU → IXR → BBI → BLR   \n",
       "\n",
       "  Dep_Time  Arrival_Time Duration Total_Stops Additional_Info   Price  \n",
       "0    22:20  01:10 22 Mar   2h 50m    non-stop         No info  3897.0  \n",
       "1    05:50         13:15   7h 25m     2 stops         No info  7662.0  "
      ]
     },
     "execution_count": 7,
     "metadata": {},
     "output_type": "execute_result"
    }
   ],
   "source": [
    "df = df_train.append(df_test)\n",
    "df.head(2)"
   ]
  },
  {
   "cell_type": "code",
   "execution_count": 8,
   "id": "e5c8f1d0",
   "metadata": {},
   "outputs": [
    {
     "name": "stdout",
     "output_type": "stream",
     "text": [
      "<class 'pandas.core.frame.DataFrame'>\n",
      "RangeIndex: 13353 entries, 0 to 13352\n",
      "Data columns (total 12 columns):\n",
      " #   Column           Non-Null Count  Dtype  \n",
      "---  ------           --------------  -----  \n",
      " 0   index            13353 non-null  int64  \n",
      " 1   Airline          13353 non-null  object \n",
      " 2   Date_of_Journey  13353 non-null  object \n",
      " 3   Source           13353 non-null  object \n",
      " 4   Destination      13353 non-null  object \n",
      " 5   Route            13353 non-null  object \n",
      " 6   Dep_Time         13353 non-null  object \n",
      " 7   Arrival_Time     13353 non-null  object \n",
      " 8   Duration         13353 non-null  object \n",
      " 9   Total_Stops      13353 non-null  object \n",
      " 10  Additional_Info  13353 non-null  object \n",
      " 11  Price            10682 non-null  float64\n",
      "dtypes: float64(1), int64(1), object(10)\n",
      "memory usage: 1.2+ MB\n"
     ]
    }
   ],
   "source": [
    "df = df.reset_index()\n",
    "df.info()"
   ]
  },
  {
   "cell_type": "markdown",
   "id": "d16648a7",
   "metadata": {},
   "source": [
    "### Handling Object Features:"
   ]
  },
  {
   "cell_type": "markdown",
   "id": "cb98e7e9",
   "metadata": {},
   "source": [
    "#### 1) Handling Date Feature:"
   ]
  },
  {
   "cell_type": "code",
   "execution_count": 9,
   "id": "c130ae49",
   "metadata": {},
   "outputs": [
    {
     "data": {
      "text/html": [
       "<div>\n",
       "<style scoped>\n",
       "    .dataframe tbody tr th:only-of-type {\n",
       "        vertical-align: middle;\n",
       "    }\n",
       "\n",
       "    .dataframe tbody tr th {\n",
       "        vertical-align: top;\n",
       "    }\n",
       "\n",
       "    .dataframe thead th {\n",
       "        text-align: right;\n",
       "    }\n",
       "</style>\n",
       "<table border=\"1\" class=\"dataframe\">\n",
       "  <thead>\n",
       "    <tr style=\"text-align: right;\">\n",
       "      <th></th>\n",
       "      <th>index</th>\n",
       "      <th>Airline</th>\n",
       "      <th>Date_of_Journey</th>\n",
       "      <th>Source</th>\n",
       "      <th>Destination</th>\n",
       "      <th>Route</th>\n",
       "      <th>Dep_Time</th>\n",
       "      <th>Arrival_Time</th>\n",
       "      <th>Duration</th>\n",
       "      <th>Total_Stops</th>\n",
       "      <th>Additional_Info</th>\n",
       "      <th>Price</th>\n",
       "      <th>Date</th>\n",
       "      <th>Month</th>\n",
       "      <th>Year</th>\n",
       "    </tr>\n",
       "  </thead>\n",
       "  <tbody>\n",
       "    <tr>\n",
       "      <th>0</th>\n",
       "      <td>0</td>\n",
       "      <td>IndiGo</td>\n",
       "      <td>24/03/2019</td>\n",
       "      <td>Banglore</td>\n",
       "      <td>New Delhi</td>\n",
       "      <td>BLR → DEL</td>\n",
       "      <td>22:20</td>\n",
       "      <td>01:10 22 Mar</td>\n",
       "      <td>2h 50m</td>\n",
       "      <td>non-stop</td>\n",
       "      <td>No info</td>\n",
       "      <td>3897.0</td>\n",
       "      <td>24</td>\n",
       "      <td>03</td>\n",
       "      <td>2019</td>\n",
       "    </tr>\n",
       "    <tr>\n",
       "      <th>1</th>\n",
       "      <td>1</td>\n",
       "      <td>Air India</td>\n",
       "      <td>1/05/2019</td>\n",
       "      <td>Kolkata</td>\n",
       "      <td>Banglore</td>\n",
       "      <td>CCU → IXR → BBI → BLR</td>\n",
       "      <td>05:50</td>\n",
       "      <td>13:15</td>\n",
       "      <td>7h 25m</td>\n",
       "      <td>2 stops</td>\n",
       "      <td>No info</td>\n",
       "      <td>7662.0</td>\n",
       "      <td>1</td>\n",
       "      <td>05</td>\n",
       "      <td>2019</td>\n",
       "    </tr>\n",
       "  </tbody>\n",
       "</table>\n",
       "</div>"
      ],
      "text/plain": [
       "   index    Airline Date_of_Journey    Source Destination  \\\n",
       "0      0     IndiGo      24/03/2019  Banglore   New Delhi   \n",
       "1      1  Air India       1/05/2019   Kolkata    Banglore   \n",
       "\n",
       "                   Route Dep_Time  Arrival_Time Duration Total_Stops  \\\n",
       "0              BLR → DEL    22:20  01:10 22 Mar   2h 50m    non-stop   \n",
       "1  CCU → IXR → BBI → BLR    05:50         13:15   7h 25m     2 stops   \n",
       "\n",
       "  Additional_Info   Price Date Month  Year  \n",
       "0         No info  3897.0   24    03  2019  \n",
       "1         No info  7662.0    1    05  2019  "
      ]
     },
     "execution_count": 9,
     "metadata": {},
     "output_type": "execute_result"
    }
   ],
   "source": [
    "df['Date'] = df['Date_of_Journey'].str.split('/').str[0]\n",
    "df['Month'] = df['Date_of_Journey'].str.split('/').str[1]\n",
    "df['Year'] = df['Date_of_Journey'].str.split('/').str[2]\n",
    "df.head(2)"
   ]
  },
  {
   "cell_type": "code",
   "execution_count": 10,
   "id": "ca36324c",
   "metadata": {},
   "outputs": [],
   "source": [
    "df['Date'] = df['Date'].astype(int)\n",
    "df['Month'] = df['Month'].astype(int)\n",
    "df['Year'] = df['Year'].astype(int)\n",
    "df.drop(['Date_of_Journey'],axis = 1 , inplace= True)"
   ]
  },
  {
   "cell_type": "code",
   "execution_count": 11,
   "id": "413041b5",
   "metadata": {
    "scrolled": true
   },
   "outputs": [
    {
     "name": "stdout",
     "output_type": "stream",
     "text": [
      "<class 'pandas.core.frame.DataFrame'>\n",
      "RangeIndex: 13353 entries, 0 to 13352\n",
      "Data columns (total 14 columns):\n",
      " #   Column           Non-Null Count  Dtype  \n",
      "---  ------           --------------  -----  \n",
      " 0   index            13353 non-null  int64  \n",
      " 1   Airline          13353 non-null  object \n",
      " 2   Source           13353 non-null  object \n",
      " 3   Destination      13353 non-null  object \n",
      " 4   Route            13353 non-null  object \n",
      " 5   Dep_Time         13353 non-null  object \n",
      " 6   Arrival_Time     13353 non-null  object \n",
      " 7   Duration         13353 non-null  object \n",
      " 8   Total_Stops      13353 non-null  object \n",
      " 9   Additional_Info  13353 non-null  object \n",
      " 10  Price            10682 non-null  float64\n",
      " 11  Date             13353 non-null  int32  \n",
      " 12  Month            13353 non-null  int32  \n",
      " 13  Year             13353 non-null  int32  \n",
      "dtypes: float64(1), int32(3), int64(1), object(9)\n",
      "memory usage: 1.3+ MB\n"
     ]
    }
   ],
   "source": [
    "df.info()"
   ]
  },
  {
   "cell_type": "code",
   "execution_count": 12,
   "id": "82e75b89",
   "metadata": {},
   "outputs": [],
   "source": [
    "df_1 = df.copy()"
   ]
  },
  {
   "cell_type": "markdown",
   "id": "1b285a29",
   "metadata": {},
   "source": [
    "#### 2) Handling Arrival Time And Departure Time Features:"
   ]
  },
  {
   "cell_type": "code",
   "execution_count": 13,
   "id": "1df6e7e5",
   "metadata": {},
   "outputs": [],
   "source": [
    "df_1['Arrival_Time'] = df_1['Arrival_Time'].str.split(' ').str[0]"
   ]
  },
  {
   "cell_type": "code",
   "execution_count": 14,
   "id": "9bff6a33",
   "metadata": {},
   "outputs": [],
   "source": [
    "df_1['Arrival_hour'] = df_1['Arrival_Time'].str.split(':').str[0]\n",
    "df_1['Arrival_min'] = df_1['Arrival_Time'].str.split(':').str[1]\n",
    "df_1['Arrival_hour'] = df_1['Arrival_hour'].astype(int)\n",
    "df_1['Arrival_min'] = df_1['Arrival_min'].astype(int)\n",
    "df_1.drop(['Arrival_Time'],axis=1,inplace=True)"
   ]
  },
  {
   "cell_type": "code",
   "execution_count": 15,
   "id": "312e3443",
   "metadata": {},
   "outputs": [],
   "source": [
    "df_1['dept_hour'] = df_1['Dep_Time'].str.split(':').str[0]\n",
    "df_1['dept_min'] = df_1['Dep_Time'].str.split(':').str[1]\n",
    "df_1['dept_hour'] = df_1['dept_hour'].astype(int)\n",
    "df_1['dept_min'] = df_1['dept_min'].astype(int)\n",
    "df_1.drop(['Dep_Time'],axis=1,inplace=True)"
   ]
  },
  {
   "cell_type": "code",
   "execution_count": 16,
   "id": "c69e58c2",
   "metadata": {
    "scrolled": true
   },
   "outputs": [
    {
     "name": "stdout",
     "output_type": "stream",
     "text": [
      "<class 'pandas.core.frame.DataFrame'>\n",
      "RangeIndex: 13353 entries, 0 to 13352\n",
      "Data columns (total 16 columns):\n",
      " #   Column           Non-Null Count  Dtype  \n",
      "---  ------           --------------  -----  \n",
      " 0   index            13353 non-null  int64  \n",
      " 1   Airline          13353 non-null  object \n",
      " 2   Source           13353 non-null  object \n",
      " 3   Destination      13353 non-null  object \n",
      " 4   Route            13353 non-null  object \n",
      " 5   Duration         13353 non-null  object \n",
      " 6   Total_Stops      13353 non-null  object \n",
      " 7   Additional_Info  13353 non-null  object \n",
      " 8   Price            10682 non-null  float64\n",
      " 9   Date             13353 non-null  int32  \n",
      " 10  Month            13353 non-null  int32  \n",
      " 11  Year             13353 non-null  int32  \n",
      " 12  Arrival_hour     13353 non-null  int32  \n",
      " 13  Arrival_min      13353 non-null  int32  \n",
      " 14  dept_hour        13353 non-null  int32  \n",
      " 15  dept_min         13353 non-null  int32  \n",
      "dtypes: float64(1), int32(7), int64(1), object(7)\n",
      "memory usage: 1.3+ MB\n"
     ]
    }
   ],
   "source": [
    "df_1.info()"
   ]
  },
  {
   "cell_type": "code",
   "execution_count": 17,
   "id": "70b17542",
   "metadata": {},
   "outputs": [],
   "source": [
    "df_2 = df_1.copy()"
   ]
  },
  {
   "cell_type": "markdown",
   "id": "776b6d69",
   "metadata": {},
   "source": [
    "#### 3) Handling Total stops and Route Feature:"
   ]
  },
  {
   "cell_type": "code",
   "execution_count": 18,
   "id": "f3dbe972",
   "metadata": {},
   "outputs": [
    {
     "data": {
      "text/plain": [
       "array(['non-stop', '2 stops', '1 stop', '3 stops', '4 stops'],\n",
       "      dtype=object)"
      ]
     },
     "execution_count": 18,
     "metadata": {},
     "output_type": "execute_result"
    }
   ],
   "source": [
    "df_2['Total_Stops'].unique()"
   ]
  },
  {
   "cell_type": "code",
   "execution_count": 19,
   "id": "f0a2cbeb",
   "metadata": {},
   "outputs": [
    {
     "data": {
      "text/plain": [
       "array([0, 2, 1, 3, 4], dtype=int64)"
      ]
     },
     "execution_count": 19,
     "metadata": {},
     "output_type": "execute_result"
    }
   ],
   "source": [
    "df_2['Total_Stops'] = df_2['Total_Stops'].map({'non-stop':0,'1 stop':1,'2 stops':2,'3 stops':3,'4 stops':4})\n",
    "df_2['Total_Stops'].unique()"
   ]
  },
  {
   "cell_type": "code",
   "execution_count": 20,
   "id": "fcbddeea",
   "metadata": {},
   "outputs": [],
   "source": [
    "df_2.drop(['Route'],axis=1,inplace=True)"
   ]
  },
  {
   "cell_type": "code",
   "execution_count": 21,
   "id": "d7757f7d",
   "metadata": {},
   "outputs": [],
   "source": [
    "df_3 = df_2.copy()"
   ]
  },
  {
   "cell_type": "markdown",
   "id": "1e7b39c7",
   "metadata": {},
   "source": [
    "#### 4) Handling Duration Feature:"
   ]
  },
  {
   "cell_type": "code",
   "execution_count": 22,
   "id": "05f19fb1",
   "metadata": {},
   "outputs": [
    {
     "data": {
      "text/plain": [
       "0    2h 50m\n",
       "1    7h 25m\n",
       "2       19h\n",
       "3    5h 25m\n",
       "4    4h 45m\n",
       "Name: Duration, dtype: object"
      ]
     },
     "execution_count": 22,
     "metadata": {},
     "output_type": "execute_result"
    }
   ],
   "source": [
    "df_3['Duration'].head()"
   ]
  },
  {
   "cell_type": "code",
   "execution_count": 23,
   "id": "bc02a676",
   "metadata": {},
   "outputs": [
    {
     "data": {
      "text/plain": [
       "(13353,)"
      ]
     },
     "execution_count": 23,
     "metadata": {},
     "output_type": "execute_result"
    }
   ],
   "source": [
    "df_3['Duration'].shape"
   ]
  },
  {
   "cell_type": "code",
   "execution_count": 24,
   "id": "45b4e00d",
   "metadata": {
    "scrolled": false
   },
   "outputs": [],
   "source": [
    "df_3['duration_hurs'] = df_3['Duration'].str.split(' ').str[0].str.split('h').str[0]\n",
    "df_3['duration_mins'] = df_3['Duration'].str.split(' ').str[1].str.split('m').str[0]"
   ]
  },
  {
   "cell_type": "code",
   "execution_count": 25,
   "id": "7738599d",
   "metadata": {
    "scrolled": false
   },
   "outputs": [
    {
     "data": {
      "text/html": [
       "<div>\n",
       "<style scoped>\n",
       "    .dataframe tbody tr th:only-of-type {\n",
       "        vertical-align: middle;\n",
       "    }\n",
       "\n",
       "    .dataframe tbody tr th {\n",
       "        vertical-align: top;\n",
       "    }\n",
       "\n",
       "    .dataframe thead th {\n",
       "        text-align: right;\n",
       "    }\n",
       "</style>\n",
       "<table border=\"1\" class=\"dataframe\">\n",
       "  <thead>\n",
       "    <tr style=\"text-align: right;\">\n",
       "      <th></th>\n",
       "      <th>index</th>\n",
       "      <th>Airline</th>\n",
       "      <th>Source</th>\n",
       "      <th>Destination</th>\n",
       "      <th>Duration</th>\n",
       "      <th>Total_Stops</th>\n",
       "      <th>Additional_Info</th>\n",
       "      <th>Price</th>\n",
       "      <th>Date</th>\n",
       "      <th>Month</th>\n",
       "      <th>Year</th>\n",
       "      <th>Arrival_hour</th>\n",
       "      <th>Arrival_min</th>\n",
       "      <th>dept_hour</th>\n",
       "      <th>dept_min</th>\n",
       "      <th>duration_hurs</th>\n",
       "      <th>duration_mins</th>\n",
       "    </tr>\n",
       "  </thead>\n",
       "  <tbody>\n",
       "    <tr>\n",
       "      <th>6474</th>\n",
       "      <td>6474</td>\n",
       "      <td>Air India</td>\n",
       "      <td>Mumbai</td>\n",
       "      <td>Hyderabad</td>\n",
       "      <td>5m</td>\n",
       "      <td>2</td>\n",
       "      <td>No info</td>\n",
       "      <td>17327.0</td>\n",
       "      <td>6</td>\n",
       "      <td>3</td>\n",
       "      <td>2019</td>\n",
       "      <td>16</td>\n",
       "      <td>55</td>\n",
       "      <td>16</td>\n",
       "      <td>50</td>\n",
       "      <td>5m</td>\n",
       "      <td>NaN</td>\n",
       "    </tr>\n",
       "    <tr>\n",
       "      <th>13342</th>\n",
       "      <td>2660</td>\n",
       "      <td>Air India</td>\n",
       "      <td>Mumbai</td>\n",
       "      <td>Hyderabad</td>\n",
       "      <td>5m</td>\n",
       "      <td>2</td>\n",
       "      <td>No info</td>\n",
       "      <td>NaN</td>\n",
       "      <td>12</td>\n",
       "      <td>3</td>\n",
       "      <td>2019</td>\n",
       "      <td>16</td>\n",
       "      <td>55</td>\n",
       "      <td>16</td>\n",
       "      <td>50</td>\n",
       "      <td>5m</td>\n",
       "      <td>NaN</td>\n",
       "    </tr>\n",
       "  </tbody>\n",
       "</table>\n",
       "</div>"
      ],
      "text/plain": [
       "       index    Airline  Source Destination Duration  Total_Stops  \\\n",
       "6474    6474  Air India  Mumbai   Hyderabad       5m            2   \n",
       "13342   2660  Air India  Mumbai   Hyderabad       5m            2   \n",
       "\n",
       "      Additional_Info    Price  Date  Month  Year  Arrival_hour  Arrival_min  \\\n",
       "6474          No info  17327.0     6      3  2019            16           55   \n",
       "13342         No info      NaN    12      3  2019            16           55   \n",
       "\n",
       "       dept_hour  dept_min duration_hurs duration_mins  \n",
       "6474          16        50            5m           NaN  \n",
       "13342         16        50            5m           NaN  "
      ]
     },
     "execution_count": 25,
     "metadata": {},
     "output_type": "execute_result"
    }
   ],
   "source": [
    "df_3[df_3['duration_hurs']=='5m']"
   ]
  },
  {
   "cell_type": "code",
   "execution_count": 26,
   "id": "d8ffd47e",
   "metadata": {},
   "outputs": [],
   "source": [
    "# Droping rows with wrong Entries\n",
    "df_4 = df_3.drop([df_3.index[6474], df_3.index[13342]])"
   ]
  },
  {
   "cell_type": "code",
   "execution_count": 27,
   "id": "eb9cdf09",
   "metadata": {
    "scrolled": true
   },
   "outputs": [
    {
     "data": {
      "text/html": [
       "<div>\n",
       "<style scoped>\n",
       "    .dataframe tbody tr th:only-of-type {\n",
       "        vertical-align: middle;\n",
       "    }\n",
       "\n",
       "    .dataframe tbody tr th {\n",
       "        vertical-align: top;\n",
       "    }\n",
       "\n",
       "    .dataframe thead th {\n",
       "        text-align: right;\n",
       "    }\n",
       "</style>\n",
       "<table border=\"1\" class=\"dataframe\">\n",
       "  <thead>\n",
       "    <tr style=\"text-align: right;\">\n",
       "      <th></th>\n",
       "      <th>index</th>\n",
       "      <th>Airline</th>\n",
       "      <th>Source</th>\n",
       "      <th>Destination</th>\n",
       "      <th>Duration</th>\n",
       "      <th>Total_Stops</th>\n",
       "      <th>Additional_Info</th>\n",
       "      <th>Price</th>\n",
       "      <th>Date</th>\n",
       "      <th>Month</th>\n",
       "      <th>Year</th>\n",
       "      <th>Arrival_hour</th>\n",
       "      <th>Arrival_min</th>\n",
       "      <th>dept_hour</th>\n",
       "      <th>dept_min</th>\n",
       "      <th>duration_hurs</th>\n",
       "      <th>duration_mins</th>\n",
       "    </tr>\n",
       "  </thead>\n",
       "  <tbody>\n",
       "    <tr>\n",
       "      <th>2</th>\n",
       "      <td>2</td>\n",
       "      <td>Jet Airways</td>\n",
       "      <td>Delhi</td>\n",
       "      <td>Cochin</td>\n",
       "      <td>19h</td>\n",
       "      <td>2</td>\n",
       "      <td>No info</td>\n",
       "      <td>13882.0</td>\n",
       "      <td>9</td>\n",
       "      <td>6</td>\n",
       "      <td>2019</td>\n",
       "      <td>4</td>\n",
       "      <td>25</td>\n",
       "      <td>9</td>\n",
       "      <td>25</td>\n",
       "      <td>19</td>\n",
       "      <td>NaN</td>\n",
       "    </tr>\n",
       "    <tr>\n",
       "      <th>18</th>\n",
       "      <td>18</td>\n",
       "      <td>Air India</td>\n",
       "      <td>Delhi</td>\n",
       "      <td>Cochin</td>\n",
       "      <td>23h</td>\n",
       "      <td>2</td>\n",
       "      <td>No info</td>\n",
       "      <td>13381.0</td>\n",
       "      <td>12</td>\n",
       "      <td>6</td>\n",
       "      <td>2019</td>\n",
       "      <td>19</td>\n",
       "      <td>15</td>\n",
       "      <td>20</td>\n",
       "      <td>15</td>\n",
       "      <td>23</td>\n",
       "      <td>NaN</td>\n",
       "    </tr>\n",
       "  </tbody>\n",
       "</table>\n",
       "</div>"
      ],
      "text/plain": [
       "    index      Airline Source Destination Duration  Total_Stops  \\\n",
       "2       2  Jet Airways  Delhi      Cochin      19h            2   \n",
       "18     18    Air India  Delhi      Cochin      23h            2   \n",
       "\n",
       "   Additional_Info    Price  Date  Month  Year  Arrival_hour  Arrival_min  \\\n",
       "2          No info  13882.0     9      6  2019             4           25   \n",
       "18         No info  13381.0    12      6  2019            19           15   \n",
       "\n",
       "    dept_hour  dept_min duration_hurs duration_mins  \n",
       "2           9        25            19           NaN  \n",
       "18         20        15            23           NaN  "
      ]
     },
     "execution_count": 27,
     "metadata": {},
     "output_type": "execute_result"
    }
   ],
   "source": [
    "df_4[df_4['duration_mins'].isnull()].head(2)"
   ]
  },
  {
   "cell_type": "code",
   "execution_count": 28,
   "id": "ef2fa0f5",
   "metadata": {},
   "outputs": [],
   "source": [
    "df_4['duration_mins'] = df_4['duration_mins'].fillna(value = 0)"
   ]
  },
  {
   "cell_type": "code",
   "execution_count": 29,
   "id": "9cbb0126",
   "metadata": {},
   "outputs": [
    {
     "data": {
      "text/html": [
       "<div>\n",
       "<style scoped>\n",
       "    .dataframe tbody tr th:only-of-type {\n",
       "        vertical-align: middle;\n",
       "    }\n",
       "\n",
       "    .dataframe tbody tr th {\n",
       "        vertical-align: top;\n",
       "    }\n",
       "\n",
       "    .dataframe thead th {\n",
       "        text-align: right;\n",
       "    }\n",
       "</style>\n",
       "<table border=\"1\" class=\"dataframe\">\n",
       "  <thead>\n",
       "    <tr style=\"text-align: right;\">\n",
       "      <th></th>\n",
       "      <th>index</th>\n",
       "      <th>Airline</th>\n",
       "      <th>Source</th>\n",
       "      <th>Destination</th>\n",
       "      <th>Duration</th>\n",
       "      <th>Total_Stops</th>\n",
       "      <th>Additional_Info</th>\n",
       "      <th>Price</th>\n",
       "      <th>Date</th>\n",
       "      <th>Month</th>\n",
       "      <th>Year</th>\n",
       "      <th>Arrival_hour</th>\n",
       "      <th>Arrival_min</th>\n",
       "      <th>dept_hour</th>\n",
       "      <th>dept_min</th>\n",
       "      <th>duration_hurs</th>\n",
       "      <th>duration_mins</th>\n",
       "    </tr>\n",
       "  </thead>\n",
       "  <tbody>\n",
       "  </tbody>\n",
       "</table>\n",
       "</div>"
      ],
      "text/plain": [
       "Empty DataFrame\n",
       "Columns: [index, Airline, Source, Destination, Duration, Total_Stops, Additional_Info, Price, Date, Month, Year, Arrival_hour, Arrival_min, dept_hour, dept_min, duration_hurs, duration_mins]\n",
       "Index: []"
      ]
     },
     "execution_count": 29,
     "metadata": {},
     "output_type": "execute_result"
    }
   ],
   "source": [
    "df_4[df_4['duration_mins'].isnull()].head(2)"
   ]
  },
  {
   "cell_type": "code",
   "execution_count": 30,
   "id": "b1029fd9",
   "metadata": {},
   "outputs": [],
   "source": [
    "df_4['duration_hurs'] = df_4['duration_hurs'].astype(int)\n",
    "df_4['duration_mins'] = df_4['duration_mins'].astype(int)"
   ]
  },
  {
   "cell_type": "code",
   "execution_count": 31,
   "id": "bf3f4baf",
   "metadata": {},
   "outputs": [],
   "source": [
    "df_4['total_duration_in_min'] = df_4['duration_hurs']*60 + df_4['duration_mins']"
   ]
  },
  {
   "cell_type": "code",
   "execution_count": 32,
   "id": "7cc0f4eb",
   "metadata": {},
   "outputs": [
    {
     "data": {
      "text/html": [
       "<div>\n",
       "<style scoped>\n",
       "    .dataframe tbody tr th:only-of-type {\n",
       "        vertical-align: middle;\n",
       "    }\n",
       "\n",
       "    .dataframe tbody tr th {\n",
       "        vertical-align: top;\n",
       "    }\n",
       "\n",
       "    .dataframe thead th {\n",
       "        text-align: right;\n",
       "    }\n",
       "</style>\n",
       "<table border=\"1\" class=\"dataframe\">\n",
       "  <thead>\n",
       "    <tr style=\"text-align: right;\">\n",
       "      <th></th>\n",
       "      <th>index</th>\n",
       "      <th>Airline</th>\n",
       "      <th>Source</th>\n",
       "      <th>Destination</th>\n",
       "      <th>Duration</th>\n",
       "      <th>Total_Stops</th>\n",
       "      <th>Additional_Info</th>\n",
       "      <th>Price</th>\n",
       "      <th>Date</th>\n",
       "      <th>Month</th>\n",
       "      <th>Year</th>\n",
       "      <th>Arrival_hour</th>\n",
       "      <th>Arrival_min</th>\n",
       "      <th>dept_hour</th>\n",
       "      <th>dept_min</th>\n",
       "      <th>duration_hurs</th>\n",
       "      <th>duration_mins</th>\n",
       "      <th>total_duration_in_min</th>\n",
       "    </tr>\n",
       "  </thead>\n",
       "  <tbody>\n",
       "    <tr>\n",
       "      <th>0</th>\n",
       "      <td>0</td>\n",
       "      <td>IndiGo</td>\n",
       "      <td>Banglore</td>\n",
       "      <td>New Delhi</td>\n",
       "      <td>2h 50m</td>\n",
       "      <td>0</td>\n",
       "      <td>No info</td>\n",
       "      <td>3897.0</td>\n",
       "      <td>24</td>\n",
       "      <td>3</td>\n",
       "      <td>2019</td>\n",
       "      <td>1</td>\n",
       "      <td>10</td>\n",
       "      <td>22</td>\n",
       "      <td>20</td>\n",
       "      <td>2</td>\n",
       "      <td>50</td>\n",
       "      <td>170</td>\n",
       "    </tr>\n",
       "    <tr>\n",
       "      <th>1</th>\n",
       "      <td>1</td>\n",
       "      <td>Air India</td>\n",
       "      <td>Kolkata</td>\n",
       "      <td>Banglore</td>\n",
       "      <td>7h 25m</td>\n",
       "      <td>2</td>\n",
       "      <td>No info</td>\n",
       "      <td>7662.0</td>\n",
       "      <td>1</td>\n",
       "      <td>5</td>\n",
       "      <td>2019</td>\n",
       "      <td>13</td>\n",
       "      <td>15</td>\n",
       "      <td>5</td>\n",
       "      <td>50</td>\n",
       "      <td>7</td>\n",
       "      <td>25</td>\n",
       "      <td>445</td>\n",
       "    </tr>\n",
       "    <tr>\n",
       "      <th>2</th>\n",
       "      <td>2</td>\n",
       "      <td>Jet Airways</td>\n",
       "      <td>Delhi</td>\n",
       "      <td>Cochin</td>\n",
       "      <td>19h</td>\n",
       "      <td>2</td>\n",
       "      <td>No info</td>\n",
       "      <td>13882.0</td>\n",
       "      <td>9</td>\n",
       "      <td>6</td>\n",
       "      <td>2019</td>\n",
       "      <td>4</td>\n",
       "      <td>25</td>\n",
       "      <td>9</td>\n",
       "      <td>25</td>\n",
       "      <td>19</td>\n",
       "      <td>0</td>\n",
       "      <td>1140</td>\n",
       "    </tr>\n",
       "    <tr>\n",
       "      <th>3</th>\n",
       "      <td>3</td>\n",
       "      <td>IndiGo</td>\n",
       "      <td>Kolkata</td>\n",
       "      <td>Banglore</td>\n",
       "      <td>5h 25m</td>\n",
       "      <td>1</td>\n",
       "      <td>No info</td>\n",
       "      <td>6218.0</td>\n",
       "      <td>12</td>\n",
       "      <td>5</td>\n",
       "      <td>2019</td>\n",
       "      <td>23</td>\n",
       "      <td>30</td>\n",
       "      <td>18</td>\n",
       "      <td>5</td>\n",
       "      <td>5</td>\n",
       "      <td>25</td>\n",
       "      <td>325</td>\n",
       "    </tr>\n",
       "    <tr>\n",
       "      <th>4</th>\n",
       "      <td>4</td>\n",
       "      <td>IndiGo</td>\n",
       "      <td>Banglore</td>\n",
       "      <td>New Delhi</td>\n",
       "      <td>4h 45m</td>\n",
       "      <td>1</td>\n",
       "      <td>No info</td>\n",
       "      <td>13302.0</td>\n",
       "      <td>1</td>\n",
       "      <td>3</td>\n",
       "      <td>2019</td>\n",
       "      <td>21</td>\n",
       "      <td>35</td>\n",
       "      <td>16</td>\n",
       "      <td>50</td>\n",
       "      <td>4</td>\n",
       "      <td>45</td>\n",
       "      <td>285</td>\n",
       "    </tr>\n",
       "  </tbody>\n",
       "</table>\n",
       "</div>"
      ],
      "text/plain": [
       "   index      Airline    Source Destination Duration  Total_Stops  \\\n",
       "0      0       IndiGo  Banglore   New Delhi   2h 50m            0   \n",
       "1      1    Air India   Kolkata    Banglore   7h 25m            2   \n",
       "2      2  Jet Airways     Delhi      Cochin      19h            2   \n",
       "3      3       IndiGo   Kolkata    Banglore   5h 25m            1   \n",
       "4      4       IndiGo  Banglore   New Delhi   4h 45m            1   \n",
       "\n",
       "  Additional_Info    Price  Date  Month  Year  Arrival_hour  Arrival_min  \\\n",
       "0         No info   3897.0    24      3  2019             1           10   \n",
       "1         No info   7662.0     1      5  2019            13           15   \n",
       "2         No info  13882.0     9      6  2019             4           25   \n",
       "3         No info   6218.0    12      5  2019            23           30   \n",
       "4         No info  13302.0     1      3  2019            21           35   \n",
       "\n",
       "   dept_hour  dept_min  duration_hurs  duration_mins  total_duration_in_min  \n",
       "0         22        20              2             50                    170  \n",
       "1          5        50              7             25                    445  \n",
       "2          9        25             19              0                   1140  \n",
       "3         18         5              5             25                    325  \n",
       "4         16        50              4             45                    285  "
      ]
     },
     "execution_count": 32,
     "metadata": {},
     "output_type": "execute_result"
    }
   ],
   "source": [
    "df_4.head()"
   ]
  },
  {
   "cell_type": "code",
   "execution_count": 33,
   "id": "8c3cd295",
   "metadata": {},
   "outputs": [
    {
     "name": "stdout",
     "output_type": "stream",
     "text": [
      "<class 'pandas.core.frame.DataFrame'>\n",
      "Int64Index: 13351 entries, 0 to 13352\n",
      "Data columns (total 15 columns):\n",
      " #   Column                 Non-Null Count  Dtype  \n",
      "---  ------                 --------------  -----  \n",
      " 0   index                  13351 non-null  int64  \n",
      " 1   Airline                13351 non-null  object \n",
      " 2   Source                 13351 non-null  object \n",
      " 3   Destination            13351 non-null  object \n",
      " 4   Total_Stops            13351 non-null  int64  \n",
      " 5   Additional_Info        13351 non-null  object \n",
      " 6   Price                  10681 non-null  float64\n",
      " 7   Date                   13351 non-null  int32  \n",
      " 8   Month                  13351 non-null  int32  \n",
      " 9   Year                   13351 non-null  int32  \n",
      " 10  Arrival_hour           13351 non-null  int32  \n",
      " 11  Arrival_min            13351 non-null  int32  \n",
      " 12  dept_hour              13351 non-null  int32  \n",
      " 13  dept_min               13351 non-null  int32  \n",
      " 14  total_duration_in_min  13351 non-null  int32  \n",
      "dtypes: float64(1), int32(8), int64(2), object(4)\n",
      "memory usage: 1.2+ MB\n"
     ]
    }
   ],
   "source": [
    "df_5 = df_4.drop(['Duration','duration_hurs','duration_mins'],axis=1)\n",
    "df_5.info()"
   ]
  },
  {
   "cell_type": "markdown",
   "id": "26b7b5f5",
   "metadata": {},
   "source": [
    "#### 5) Handling Airline,Source, Destination and Additional info Features:"
   ]
  },
  {
   "cell_type": "code",
   "execution_count": 34,
   "id": "aca2156c",
   "metadata": {},
   "outputs": [],
   "source": [
    "Airline_dummy = pd.get_dummies(df_5['Airline'],drop_first=True)\n",
    "Source_dummy = pd.get_dummies(df_5['Source'],drop_first=True)\n",
    "Destination_dummy = pd.get_dummies(df_5['Destination'],drop_first=True)\n",
    "Additional_Info_dummy = pd.get_dummies(df_5['Additional_Info'],drop_first=True)"
   ]
  },
  {
   "cell_type": "code",
   "execution_count": 35,
   "id": "bd8996ef",
   "metadata": {},
   "outputs": [],
   "source": [
    "Airline_dummy = Airline_dummy.astype(int)\n",
    "Source_dummy = Source_dummy.astype(int)\n",
    "Destination_dummy = Destination_dummy.astype(int)\n",
    "Additional_Info_dummy = Additional_Info_dummy.astype(int)"
   ]
  },
  {
   "cell_type": "code",
   "execution_count": 36,
   "id": "c3c21d0b",
   "metadata": {},
   "outputs": [],
   "source": [
    "df_6 = pd.concat([df_5,Airline_dummy,Source_dummy, Destination_dummy,Additional_Info_dummy], axis=1)"
   ]
  },
  {
   "cell_type": "code",
   "execution_count": 37,
   "id": "c3db5e81",
   "metadata": {},
   "outputs": [
    {
     "name": "stdout",
     "output_type": "stream",
     "text": [
      "<class 'pandas.core.frame.DataFrame'>\n",
      "Int64Index: 13351 entries, 0 to 13352\n",
      "Data columns (total 39 columns):\n",
      " #   Column                             Non-Null Count  Dtype  \n",
      "---  ------                             --------------  -----  \n",
      " 0   Total_Stops                        13351 non-null  int64  \n",
      " 1   Price                              10681 non-null  float64\n",
      " 2   Date                               13351 non-null  int32  \n",
      " 3   Month                              13351 non-null  int32  \n",
      " 4   Year                               13351 non-null  int32  \n",
      " 5   Arrival_hour                       13351 non-null  int32  \n",
      " 6   Arrival_min                        13351 non-null  int32  \n",
      " 7   dept_hour                          13351 non-null  int32  \n",
      " 8   dept_min                           13351 non-null  int32  \n",
      " 9   total_duration_in_min              13351 non-null  int32  \n",
      " 10  Air India                          13351 non-null  int32  \n",
      " 11  GoAir                              13351 non-null  int32  \n",
      " 12  IndiGo                             13351 non-null  int32  \n",
      " 13  Jet Airways                        13351 non-null  int32  \n",
      " 14  Jet Airways Business               13351 non-null  int32  \n",
      " 15  Multiple carriers                  13351 non-null  int32  \n",
      " 16  Multiple carriers Premium economy  13351 non-null  int32  \n",
      " 17  SpiceJet                           13351 non-null  int32  \n",
      " 18  Trujet                             13351 non-null  int32  \n",
      " 19  Vistara                            13351 non-null  int32  \n",
      " 20  Vistara Premium economy            13351 non-null  int32  \n",
      " 21  Chennai                            13351 non-null  int32  \n",
      " 22  Delhi                              13351 non-null  int32  \n",
      " 23  Kolkata                            13351 non-null  int32  \n",
      " 24  Mumbai                             13351 non-null  int32  \n",
      " 25  Cochin                             13351 non-null  int32  \n",
      " 26  Delhi                              13351 non-null  int32  \n",
      " 27  Hyderabad                          13351 non-null  int32  \n",
      " 28  Kolkata                            13351 non-null  int32  \n",
      " 29  New Delhi                          13351 non-null  int32  \n",
      " 30  1 Short layover                    13351 non-null  int32  \n",
      " 31  2 Long layover                     13351 non-null  int32  \n",
      " 32  Business class                     13351 non-null  int32  \n",
      " 33  Change airports                    13351 non-null  int32  \n",
      " 34  In-flight meal not included        13351 non-null  int32  \n",
      " 35  No Info                            13351 non-null  int32  \n",
      " 36  No check-in baggage included       13351 non-null  int32  \n",
      " 37  No info                            13351 non-null  int32  \n",
      " 38  Red-eye flight                     13351 non-null  int32  \n",
      "dtypes: float64(1), int32(37), int64(1)\n",
      "memory usage: 2.2 MB\n"
     ]
    }
   ],
   "source": [
    "df_7 = df_6.drop(['index','Airline','Source','Destination','Additional_Info'],axis=1)\n",
    "df_7.info()"
   ]
  },
  {
   "cell_type": "code",
   "execution_count": 38,
   "id": "a716178c",
   "metadata": {},
   "outputs": [
    {
     "data": {
      "text/html": [
       "<div>\n",
       "<style scoped>\n",
       "    .dataframe tbody tr th:only-of-type {\n",
       "        vertical-align: middle;\n",
       "    }\n",
       "\n",
       "    .dataframe tbody tr th {\n",
       "        vertical-align: top;\n",
       "    }\n",
       "\n",
       "    .dataframe thead th {\n",
       "        text-align: right;\n",
       "    }\n",
       "</style>\n",
       "<table border=\"1\" class=\"dataframe\">\n",
       "  <thead>\n",
       "    <tr style=\"text-align: right;\">\n",
       "      <th></th>\n",
       "      <th>Total_Stops</th>\n",
       "      <th>Price</th>\n",
       "      <th>Date</th>\n",
       "      <th>Month</th>\n",
       "      <th>Year</th>\n",
       "      <th>Arrival_hour</th>\n",
       "      <th>Arrival_min</th>\n",
       "      <th>dept_hour</th>\n",
       "      <th>dept_min</th>\n",
       "      <th>total_duration_in_min</th>\n",
       "      <th>...</th>\n",
       "      <th>New Delhi</th>\n",
       "      <th>1 Short layover</th>\n",
       "      <th>2 Long layover</th>\n",
       "      <th>Business class</th>\n",
       "      <th>Change airports</th>\n",
       "      <th>In-flight meal not included</th>\n",
       "      <th>No Info</th>\n",
       "      <th>No check-in baggage included</th>\n",
       "      <th>No info</th>\n",
       "      <th>Red-eye flight</th>\n",
       "    </tr>\n",
       "  </thead>\n",
       "  <tbody>\n",
       "    <tr>\n",
       "      <th>0</th>\n",
       "      <td>0</td>\n",
       "      <td>3897.0</td>\n",
       "      <td>24</td>\n",
       "      <td>3</td>\n",
       "      <td>2019</td>\n",
       "      <td>1</td>\n",
       "      <td>10</td>\n",
       "      <td>22</td>\n",
       "      <td>20</td>\n",
       "      <td>170</td>\n",
       "      <td>...</td>\n",
       "      <td>1</td>\n",
       "      <td>0</td>\n",
       "      <td>0</td>\n",
       "      <td>0</td>\n",
       "      <td>0</td>\n",
       "      <td>0</td>\n",
       "      <td>0</td>\n",
       "      <td>0</td>\n",
       "      <td>1</td>\n",
       "      <td>0</td>\n",
       "    </tr>\n",
       "    <tr>\n",
       "      <th>1</th>\n",
       "      <td>2</td>\n",
       "      <td>7662.0</td>\n",
       "      <td>1</td>\n",
       "      <td>5</td>\n",
       "      <td>2019</td>\n",
       "      <td>13</td>\n",
       "      <td>15</td>\n",
       "      <td>5</td>\n",
       "      <td>50</td>\n",
       "      <td>445</td>\n",
       "      <td>...</td>\n",
       "      <td>0</td>\n",
       "      <td>0</td>\n",
       "      <td>0</td>\n",
       "      <td>0</td>\n",
       "      <td>0</td>\n",
       "      <td>0</td>\n",
       "      <td>0</td>\n",
       "      <td>0</td>\n",
       "      <td>1</td>\n",
       "      <td>0</td>\n",
       "    </tr>\n",
       "  </tbody>\n",
       "</table>\n",
       "<p>2 rows × 39 columns</p>\n",
       "</div>"
      ],
      "text/plain": [
       "   Total_Stops   Price  Date  Month  Year  Arrival_hour  Arrival_min  \\\n",
       "0            0  3897.0    24      3  2019             1           10   \n",
       "1            2  7662.0     1      5  2019            13           15   \n",
       "\n",
       "   dept_hour  dept_min  total_duration_in_min  ...  New Delhi  \\\n",
       "0         22        20                    170  ...          1   \n",
       "1          5        50                    445  ...          0   \n",
       "\n",
       "   1 Short layover  2 Long layover  Business class  Change airports  \\\n",
       "0                0               0               0                0   \n",
       "1                0               0               0                0   \n",
       "\n",
       "   In-flight meal not included  No Info  No check-in baggage included  \\\n",
       "0                            0        0                             0   \n",
       "1                            0        0                             0   \n",
       "\n",
       "   No info  Red-eye flight  \n",
       "0        1               0  \n",
       "1        1               0  \n",
       "\n",
       "[2 rows x 39 columns]"
      ]
     },
     "execution_count": 38,
     "metadata": {},
     "output_type": "execute_result"
    }
   ],
   "source": [
    "df_7.head(2)"
   ]
  },
  {
   "cell_type": "markdown",
   "id": "1261ab09",
   "metadata": {},
   "source": [
    "## Seperating Train and Test Data:"
   ]
  },
  {
   "cell_type": "code",
   "execution_count": 41,
   "id": "bf5c9b8a",
   "metadata": {},
   "outputs": [],
   "source": [
    "df_test = df_7[df_7['Price'].isnull()]\n",
    "df_train = df_7[~df_7['Price'].isnull()]"
   ]
  },
  {
   "cell_type": "code",
   "execution_count": 42,
   "id": "cf908974",
   "metadata": {},
   "outputs": [
    {
     "data": {
      "text/plain": [
       "((10681, 39), (2670, 39))"
      ]
     },
     "execution_count": 42,
     "metadata": {},
     "output_type": "execute_result"
    }
   ],
   "source": [
    "df_train.shape , df_test.shape"
   ]
  },
  {
   "cell_type": "code",
   "execution_count": 43,
   "id": "b98054cc",
   "metadata": {},
   "outputs": [
    {
     "data": {
      "text/plain": [
       "2670"
      ]
     },
     "execution_count": 43,
     "metadata": {},
     "output_type": "execute_result"
    }
   ],
   "source": [
    "df_test['Price'].isnull().sum()"
   ]
  },
  {
   "cell_type": "code",
   "execution_count": null,
   "id": "2ce6b592",
   "metadata": {},
   "outputs": [],
   "source": []
  }
 ],
 "metadata": {
  "kernelspec": {
   "display_name": "Python 3 (ipykernel)",
   "language": "python",
   "name": "python3"
  },
  "language_info": {
   "codemirror_mode": {
    "name": "ipython",
    "version": 3
   },
   "file_extension": ".py",
   "mimetype": "text/x-python",
   "name": "python",
   "nbconvert_exporter": "python",
   "pygments_lexer": "ipython3",
   "version": "3.8.11"
  }
 },
 "nbformat": 4,
 "nbformat_minor": 5
}
